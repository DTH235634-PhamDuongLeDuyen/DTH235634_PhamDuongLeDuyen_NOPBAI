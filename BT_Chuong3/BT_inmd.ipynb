{
 "cells": [
  {
   "cell_type": "markdown",
   "id": "b967144b",
   "metadata": {},
   "source": [
    "# Câu 1: Kiểm tra năm nhuần\n",
    "\n",
    "Yêu cầu:\n",
    "\n",
    "Nhập vào một năm bất kỳ, kiểm tra năm đó có phải năm nhuần hay không. Biết\n",
    "rằng: Năm nhuần là năm chia hết cho 4 nhưng không chia hết cho 100 hoặc chia\n",
    "hết cho 400\n"
   ]
  },
  {
   "cell_type": "code",
   "execution_count": 3,
   "id": "94b8fd3a",
   "metadata": {},
   "outputs": [
    {
     "name": "stdout",
     "output_type": "stream",
     "text": [
      "Chương trình kiểm tra năm nhuận\n",
      "Năm 2005 không nhuận\n"
     ]
    }
   ],
   "source": [
    "print(\"Chương trình kiểm tra năm nhuận\")\n",
    "year=int(input(\"Nhập năm cần kiểm tra: \"  ))\n",
    "if (year % 4 == 0 and year % 100 != 0) or (year % 400 == 0):\n",
    "    print(\"Năm\", year, \"là năm nhuận\")\n",
    "else:\n",
    "    print(\"Năm\", year, \"không nhuận\")"
   ]
  },
  {
   "cell_type": "markdown",
   "id": "3d23aec8",
   "metadata": {},
   "source": [
    "# Câu 2: Đếm số ngày trong tháng\n",
    "\n",
    "Yêu cầu:\n",
    "\n",
    "Nhập vào 1 tháng, xuất tháng đó có bao nhiêu ngày.\n",
    "\n",
    "1,3,5,7,8,10,12➔31 ngày\n",
    "\n",
    "4,6,9,11➔có 30 ngày\n",
    "\n",
    "Nếu là tháng 2 thì yêu cầu nhập thêm năm. Năm nhuần thì tháng 2 có 29 ngày,\n",
    "không nhuần có 28 ngày"
   ]
  },
  {
   "cell_type": "code",
   "execution_count": 4,
   "id": "27a32e41",
   "metadata": {},
   "outputs": [
    {
     "name": "stdout",
     "output_type": "stream",
     "text": [
      "Chương trình đếm số ngày trong tháng\n",
      "Tháng 8 có 31 ngày\n"
     ]
    }
   ],
   "source": [
    "print(\"Chương trình đếm số ngày trong tháng\")\n",
    "month = int(input(\"Nhập vào 1 tháng: \"))\n",
    "\n",
    "if month in (1, 3, 5, 7, 8, 10, 12):\n",
    "    print(\"Tháng\", month, \"có 31 ngày\")\n",
    "elif month in (4, 6, 9, 11):\n",
    "    print(\"Tháng\", month, \"có 30 ngày\")\n",
    "elif month == 2:\n",
    "    year = int(input(\"Mời bạn nhập vào năm: \"))\n",
    "    if (year % 4 == 0 and year % 100 != 0) or year % 400 == 0:\n",
    "        print(\"Tháng\", month, \"có 29 ngày\")\n",
    "    else:\n",
    "        print(\"Tháng\", month, \"có 28 ngày\")\n",
    "else:\n",
    "    print(\"Tháng\", month, \"không hợp lệ\")"
   ]
  },
  {
   "cell_type": "markdown",
   "id": "22badeb0",
   "metadata": {},
   "source": [
    "# Câu 3: Phương trình bậc 2\n",
    "\n",
    "Yêu cầu:\n",
    "\n",
    "Viết chương trình giải phương trình bậc 2: ax2+bx+c=0"
   ]
  },
  {
   "cell_type": "code",
   "execution_count": 5,
   "id": "f09a46aa",
   "metadata": {},
   "outputs": [
    {
     "name": "stdout",
     "output_type": "stream",
     "text": [
      "Chương trình Giải Phương trình bậc 2\n",
      "Phương trình vô nghiệm\n"
     ]
    }
   ],
   "source": [
    "from math import sqrt\n",
    "\n",
    "print(\"Chương trình Giải Phương trình bậc 2\")\n",
    "a = float(input(\"Nhập a: \"))\n",
    "b = float(input(\"Nhập b: \"))\n",
    "c = float(input(\"Nhập c: \"))\n",
    "\n",
    "if a == 0:\n",
    "    # Phương trình bậc nhất: bx + c = 0\n",
    "    if b == 0 and c == 0:\n",
    "        print(\"Phương trình có vô số nghiệm\")\n",
    "    elif b == 0 and c != 0:\n",
    "        print(\"Phương trình vô nghiệm\")\n",
    "    else:\n",
    "        x = -c / b\n",
    "        print(\"Phương trình có nghiệm x =\", x)\n",
    "else:\n",
    "    delta = b**2 - 4*a*c\n",
    "    if delta < 0:\n",
    "        print(\"Phương trình vô nghiệm\")\n",
    "    elif delta == 0:\n",
    "        x"
   ]
  },
  {
   "cell_type": "markdown",
   "id": "e26f29f9",
   "metadata": {},
   "source": [
    "# Câu 4: Hãy cho biết kết quả của Boolean Expression\n",
    "\n",
    "Yêu cầu:\n",
    "\n",
    "Cho x, y, z = 3, 5, 7. Hãy cho biết kết quả của Boolean Expression\n",
    "\n",
    "(a) x == 3\n",
    "\n",
    "(b) x < y\n",
    "\n",
    "(c) x >= y\n",
    "\n",
    "(d) x <= y\n",
    "\n",
    "(e) x != y - 2\n",
    "\n",
    "(f) x < 10\n",
    "\n",
    "(g) x >= 0 and x < 10\n",
    "\n",
    "(h) x < 0 and x < 10\n",
    "\n",
    "(i) x >= 0 and x < 2\n",
    "\n",
    "(j) x < 0 or x < 10\n",
    "\n",
    "(k) x > 0 or x < 10\n",
    "\n",
    "(l) x < 0 or x > 10\n",
    "\n",
    "----------------------------------------\n",
    "\n",
    "Cho x = 3, y = 5, z = 7\n",
    "\n",
    "(a) x == 3 -> 3==3 -->True\n",
    "\n",
    "(b) x < y -->3<5 -->True\n",
    "\n",
    "(c) x >= y --> 3>=5 -->False\n",
    "\n",
    "(d) x <= y -->3 <= 5 -->True\n",
    "\n",
    "(e) x != y - 2 -->3 != 3 -->False\n",
    "\n",
    "(f) x < 10 -->3 < 10 -->True\n",
    "\n",
    "(g) x >= 0 and x < 10 --> 3>=0  and 3<10 --> True\n",
    "\n",
    "(h) x < 0 and x < 10 -->3 < 0 and 3 < 10 --> False\n",
    "\n",
    "(i) x >= 0 and x < 2 -->3 >= 0 and 3 < 2 --> False\n",
    "\n",
    "(j) x < 0 or x < 10  -->3 < 0 or 3 < 10 --> True\n",
    "\n",
    "(k) x > 0 or x < 10  -->3 > 0 or 3 < 10 --> True\n",
    "\n",
    "(l) x < 0 or x > 10 -->  3 < 0 or 3 > 10 --> False\n"
   ]
  },
  {
   "cell_type": "markdown",
   "id": "8fd1c592",
   "metadata": {},
   "source": [
    "# Câu 5: Hãy cho biết kết quả xuất ra màn hình\n",
    "\n",
    "Cho i, j, k là các con số và lệnh dưới đây:\n",
    "\n",
    "Hãy cho biết kết quả xuất ra màn hình nếu tuần tự 3 biến trên có các giá trị sau:\n",
    "\n",
    "(a) i = 3, j = 5, and k = 7\n",
    "\n",
    "(b) i = 3, j = 7, and k = 5\n",
    "\n",
    "(c) i = 5, j = 3, and k = 7\n",
    "\n",
    "(d) i = 5, j = 7, and k =3\n",
    "\n",
    "(e) i = 7, j = 3, and k = 5\n",
    "\n",
    "(f) i =7, j = 5, and k = 3\n",
    "\n",
    "--------------------------------------------------------------\n",
    "\n",
    "* (a) i = 3, j = 5, k = 7\n",
    "\n",
    "i < j -> đúng -> vào nhánh đầu\n",
    "\n",
    "j < k -> đúng -> i = j -> i = 5\n",
    "\n",
    "Kết quả: i = 5, j = 5, k = 7\n",
    "\n",
    "* (b) i = 3, j = 5, k = 2\n",
    "\n",
    "i < j -> đúng -> vào nhánh đầu\n",
    "\n",
    "j < k -> sai -> j = k -> j = 2\n",
    "\n",
    "Kết quả: i = 3, j = 2, k = 2\n",
    "\n",
    "* (c) i = 5, j = 3, k = 7\n",
    "\n",
    "i < j -> sai -> vào nhánh else\n",
    "\n",
    "j > k -> sai -> i = k -> i = 7\n",
    "\n",
    "Kết quả: i = 7, j = 3, k = 7\n",
    "\n",
    "* (d) i = 7, j = 5, k = 3\n",
    "\n",
    "i < j -> sai -> vào nhánh else\n",
    "\n",
    "j > k -> đúng -> k = i -> k = 7\n",
    "\n",
    "Kết quả: i = 7, j = 5, k = 7\n",
    "\n",
    "* (e) i = 5, j = 7, k = 3\n",
    "\n",
    "i < j -> đúng -> vào nhánh đầu\n",
    "\n",
    "j < k -> sai -> j = k -> j = 3\n",
    "\n",
    "Kết quả: i = 5, j = 3, k = 3\n",
    "\n",
    "* (f) i = 7, j = 3, k = 5 \n",
    "\n",
    "i < j -> 7 < 3 -> sai -> đi vào nhánh else\n",
    "\n",
    "Trong nhánh else, xét j > k → 3 > 5 -> sai -> thực hiện i = k -> i = 5\n",
    "\n",
    "\n",
    "\n",
    "\n",
    "\n",
    "\n"
   ]
  },
  {
   "cell_type": "markdown",
   "id": "eab93eb5",
   "metadata": {},
   "source": [
    "# Câu 6: Nhập một số n có tối đa 2 chữ số. Hãy cho biết cách đọc ra dạng chữ. \n",
    "\n",
    "(vd: n=35 => Ba mươi lăm, n=5 => năm)"
   ]
  },
  {
   "cell_type": "code",
   "execution_count": 1,
   "id": "3e609815",
   "metadata": {},
   "outputs": [
    {
     "name": "stdout",
     "output_type": "stream",
     "text": [
      "hai mươi ba\n"
     ]
    }
   ],
   "source": [
    "def doc_so(n):\n",
    "    hang_don_vi = [\"\", \"một\", \"hai\", \"ba\", \"bốn\", \"năm\", \"sáu\", \"bảy\", \"tám\", \"chín\"]\n",
    "    hang_chuc = [\"\", \"mười\", \"hai mươi\", \"ba mươi\", \"bốn mươi\", \"năm mươi\", \"sáu mươi\", \"bảy mươi\", \"tám mươi\", \"chín mươi\"]\n",
    "\n",
    "    if n < 10:\n",
    "        return hang_don_vi[n]\n",
    "    elif n < 100:\n",
    "        chuc = n // 10\n",
    "        don_vi = n % 10\n",
    "        if don_vi == 0:\n",
    "            return hang_chuc[chuc]\n",
    "        elif don_vi == 1 and chuc > 1:\n",
    "            return f\"{hang_chuc[chuc]} mốt\"\n",
    "        elif don_vi == 5 and chuc > 0:\n",
    "            return f\"{hang_chuc[chuc]} lăm\"\n",
    "        else:\n",
    "            return f\"{hang_chuc[chuc]} {hang_don_vi[don_vi]}\"\n",
    "    else:\n",
    "        return \"Số không hợp lệ\"\n",
    "\n",
    "# Ví dụ sử dụng\n",
    "n = int(input(\"Nhập số n (tối đa 2 chữ số): \"))\n",
    "print(doc_so(n))"
   ]
  },
  {
   "cell_type": "markdown",
   "id": "58b9d30e",
   "metadata": {},
   "source": [
    "# Câu 7: Nhập vào một ngày (ngày, tháng, năm). Tìm ngày kế sau ngày vừa nhập (ngày/tháng/năm)."
   ]
  },
  {
   "cell_type": "code",
   "execution_count": 2,
   "id": "a5afaed3",
   "metadata": {},
   "outputs": [
    {
     "name": "stdout",
     "output_type": "stream",
     "text": [
      "Ngày kế tiếp là: 4 / 8 / 2005\n"
     ]
    }
   ],
   "source": [
    "# Nhập ngày, tháng, năm\n",
    "ngay = int(input(\"Nhập ngày: \"))\n",
    "thang = int(input(\"Nhập tháng: \"))\n",
    "nam = int(input(\"Nhập năm: \"))\n",
    "\n",
    "# Kiểm tra năm nhuận\n",
    "if (nam % 4 == 0 and nam % 100 != 0) or (nam % 400 == 0):\n",
    "    ngay_thang_2 = 29\n",
    "else:\n",
    "    ngay_thang_2 = 28\n",
    "\n",
    "# Số ngày trong các tháng\n",
    "so_ngay = [31, ngay_thang_2, 31, 30, 31, 30, 31, 31, 30, 31, 30, 31]\n",
    "\n",
    "# Tăng ngày lên\n",
    "ngay += 1\n",
    "\n",
    "# Kiểm tra nếu quá số ngày trong tháng\n",
    "if ngay > so_ngay[thang - 1]:\n",
    "    ngay = 1\n",
    "    thang += 1\n",
    "    if thang > 12:\n",
    "        thang = 1\n",
    "        nam += 1\n",
    "\n",
    "# In kết quả\n",
    "print(\"Ngày kế tiếp là:\", ngay, \"/\", thang, \"/\", nam)"
   ]
  },
  {
   "cell_type": "markdown",
   "id": "363b22b4",
   "metadata": {},
   "source": [
    "# Câu 8: Nhập vào 2 giá trị a, b và phép toán ‘+’, ‘-’, ‘*’, ‘/’ . Hãy xuất kết quả theo đúng phép toán đã nhập."
   ]
  },
  {
   "cell_type": "code",
   "execution_count": 6,
   "id": "24d1a809",
   "metadata": {},
   "outputs": [
    {
     "name": "stdout",
     "output_type": "stream",
     "text": [
      "Kết quả là: 10.0\n"
     ]
    }
   ],
   "source": [
    "# Nhập số và phép toán\n",
    "a = float(input(\"Nhập số a: \"))\n",
    "b = float(input(\"Nhập số b: \"))\n",
    "pt = input(\"Nhập phép toán (+, -, *, /): \")\n",
    "\n",
    "# Tính toán\n",
    "if pt == '+':\n",
    "    print(\"Kết quả là:\", a + b)\n",
    "elif pt == '-':\n",
    "    print(\"Kết quả là:\", a - b)\n",
    "elif pt == '*':\n",
    "    print(\"Kết quả là:\", a * b)\n",
    "elif pt == '/':\n",
    "    if b == 0:\n",
    "        print(\"Không thể chia cho 0\")\n",
    "    else:\n",
    "        print(\"Kết quả là:\", a / b)\n",
    "else:\n",
    "    print(\"Phép toán không hợp lệ\")"
   ]
  },
  {
   "cell_type": "markdown",
   "id": "5b25a4f8",
   "metadata": {},
   "source": [
    "# Câu 9: Nhập vào 1 tháng, xuất ra tháng đó thuộc quý mấy trong năm."
   ]
  },
  {
   "cell_type": "code",
   "execution_count": null,
   "id": "31dfff6e",
   "metadata": {},
   "outputs": [],
   "source": [
    "thang = int(input(\"Nhập tháng: \"))\n",
    "\n",
    "if 1 <= thang <= 3:\n",
    "    print(\"Quý 1\")\n",
    "elif 4 <= thang <= 6:\n",
    "    print(\"Quý 2\")\n",
    "elif 7 <= thang <= 9:\n",
    "    print(\"Quý 3\")\n",
    "elif 10 <= thang <= 12:\n",
    "    print(\"Quý 4\")\n",
    "else:\n",
    "    print(\"Tháng không hợp lệ\")"
   ]
  },
  {
   "cell_type": "markdown",
   "id": "cc2045de",
   "metadata": {},
   "source": [
    "# Câu 10: Tính dãy số\n",
    "Yêu cầu:\n",
    "\n",
    "Cho biểu thức toán học sau:\n",
    "\n",
    "Viết chương trình cho phép nhập x, n và xuất ra kết quả của biểu thức."
   ]
  },
  {
   "cell_type": "code",
   "execution_count": null,
   "id": "a21e3bd6",
   "metadata": {},
   "outputs": [],
   "source": [
    "x = int(input(\"Nhập x:\"))     # Nhập giá trị x\n",
    "n = int(input(\"Nhập N:\"))     # Nhập số lượng số hạng n\n",
    "s = 0                         # Khởi tạo tổng s = 0\n",
    "for i in range(1, n+1):       # Lặp từ 1 đến n\n",
    "    tu = x**i                 # Tử số là x^i\n",
    "    mau = 1\n",
    "    for j in range(1, i+1):   # Tính mẫu số là i! (giai thừa)\n",
    "        mau = mau * j\n",
    "    s = s + (tu / mau)        # Cộng vào tổng\n",
    "    print(\"s({0},{1})={2}\".format(x,n,s))  # In kết quả"
   ]
  },
  {
   "cell_type": "markdown",
   "id": "5ea7d853",
   "metadata": {},
   "source": [
    "# Câu 11: Kiểm tra số nguyên tố\n",
    "\n",
    "Yêu cầu:\n",
    "\n",
    "Viết chương trình nhập vào một số, kiểm tra xem số này có phải là số nguyên tố\n",
    "hay không. Hỏi người dùng có tiếp tục sử dụng hay thoát phần mềm."
   ]
  },
  {
   "cell_type": "code",
   "execution_count": null,
   "id": "004df62a",
   "metadata": {},
   "outputs": [],
   "source": [
    "while True:\n",
    "    n = int(input(\"Nhập 1 số nguyên dương: \"))\n",
    "    dem = 0\n",
    "    for i in range(1, n + 1):\n",
    "        if n % i == 0:\n",
    "            dem += 1\n",
    "\n",
    "    if dem == 2:\n",
    "        print(n, \"là số nguyên tố\")\n",
    "    else:\n",
    "        print(n, \"không là số nguyên tố\")\n",
    "\n",
    "    hoi = input(\"Tiếp không Thím? (c/k): \")\n",
    "    if hoi == \"k\":\n",
    "        break\n",
    "\n",
    "print(\"BYE!\")"
   ]
  },
  {
   "cell_type": "markdown",
   "id": "4544fead",
   "metadata": {},
   "source": [
    "# Câu 12: Xuất bảng cửu chương\n",
    "\n",
    "Yêu cầu:\n",
    "\n",
    "Xuất bảng cửu chương 2→9 như hình dưới đây"
   ]
  },
  {
   "cell_type": "code",
   "execution_count": null,
   "id": "2b4fec19",
   "metadata": {},
   "outputs": [],
   "source": [
    "for i in range(1, 11):         # i chạy từ 1 đến 10 (hàng dọc)\n",
    "    for j in range(2, 10):     # j chạy từ 2 đến 9 (các bảng nhân)\n",
    "        line = \"{0}*{1:>2}={2:>2}\".format(j, i, i*j)  # Định dạng đẹp\n",
    "        print(line, end='\\t')  # In trên cùng một dòng, cách nhau bằng tab\n",
    "    print()                    # Xuống dòng sau mỗi hàng"
   ]
  },
  {
   "cell_type": "markdown",
   "id": "5c3a05cb",
   "metadata": {},
   "source": [
    "# Câu 13: Cho biết bao nhiêu dấu * được in ra trên màn hình\n",
    "\n",
    "Yêu cầu:\n",
    "\n",
    "Cho biết bao nhiêu dấu * được in ra trên màn hình\n",
    "\n",
    "a = 0\n",
    "\n",
    "while a<100:\n",
    "\n",
    "print('*', end='')\n",
    "\n",
    "print()\n",
    "\n",
    "---------------------> 100 dấu *"
   ]
  },
  {
   "cell_type": "markdown",
   "id": "04e09703",
   "metadata": {},
   "source": [
    "# Câu 14: Cho biết bao nhiêu dấu * được in ra trên màn hình\n",
    "\n",
    "Yêu cầu:\n",
    "\n",
    "Cho biết bao nhiêu dấu * được in ra trên màn hình\n",
    "\n",
    "a = 0\n",
    "\n",
    "while a< 100:\n",
    "\n",
    "b = 0\n",
    "\n",
    "while b < 40:\n",
    "\n",
    "if( a + b ) %2 ==0\n",
    "\n",
    "print('*', end='')\n",
    "\n",
    "b += 1\n",
    "\n",
    "print()\n",
    "\n",
    "a += 1\n",
    "\n",
    "------------> 15 dấu *"
   ]
  },
  {
   "cell_type": "markdown",
   "id": "b2ecf1ad",
   "metadata": {},
   "source": [
    "# Câu 15: Giải thích cách chạy các dòng lệnh range\n",
    "Yêu cầu:\n",
    "\n",
    "(a) range(5)\n",
    "\n",
    "(b) range(5, 10)\n",
    "\n",
    "(c) range(5, 20, 3)\n",
    "\n",
    "(d) range(20, 5, -1)\n",
    "\n",
    "(e) range(20, 5, -3)\n",
    "\n",
    "(f) range(10, 5)\n",
    "\n",
    "(g) range(0)\n",
    "\n",
    "(h) range(10, 101, 10)\n",
    "\n",
    "(i) range(10, -1, -1)\n",
    "\n",
    "(j) range(-3, 4)\n",
    "\n",
    "(k) range(0, 10, 1)\n",
    "\n",
    "-------------------------------------------------\n",
    "\n",
    "* (a) range(5)\n",
    "\n",
    "-> Tạo dãy số từ 0 đến 4\n",
    "\n",
    "-> Kết quả: 0, 1, 2, 3, 4\n",
    "\n",
    "* (b) range(5, 10)\n",
    "\n",
    "-> Tạo dãy số từ 5 đến 9\n",
    "\n",
    "-> Kết quả: 5, 6, 7, 8, 9\n",
    "\n",
    "* (c) range(5, 20, 3)\n",
    "\n",
    "-> Bắt đầu từ 5, tăng mỗi lần 3, đến dưới 20\n",
    "\n",
    "-> Kết quả: 5, 8, 11, 14, 17\n",
    "\n",
    "* (d) range(20, 5, -1)\n",
    "\n",
    "-> Bắt đầu từ 20, giảm mỗi lần 1, đến trên 5\n",
    "\n",
    "-> Kết quả: 20, 19, 18, ..., 6\n",
    "\n",
    "* (e) range(20, 5, -3)\n",
    "\n",
    "-> Bắt đầu từ 20, giảm mỗi lần 3, đến trên 5\n",
    "\n",
    "-> Kết quả: 20, 17, 14, 11, 8\n",
    "\n",
    "* (f) range(10, 5)\n",
    "\n",
    "-> Không có bước âm nên không chạy\n",
    "\n",
    "-> Kết quả: không có gì (rỗng)\n",
    "\n",
    "* (g) range(0)\n",
    "\n",
    "-> Không có số nào để chạy\n",
    "\n",
    "-> Kết quả: rỗng\n",
    "\n",
    "* (h) range(10, 101, 10)\n",
    "\n",
    "-> Bắt đầu từ 10, tăng mỗi lần 10, đến 100\n",
    "\n",
    "-> Kết quả: 10, 20, 30, ..., 100\n",
    "\n",
    "* (i) range(10, -1, -1)\n",
    "\n",
    "-> Bắt đầu từ 10, giảm mỗi lần 1, đến 0\n",
    "\n",
    "-> Kết quả: 10, 9, 8, ..., 0\n",
    "\n",
    "* (j) range(-3, 4)\n",
    "\n",
    "-> Từ -3 đến 3\n",
    "\n",
    "-> Kết quả: -3, -2, -1, 0, 1, 2, 3\n",
    "\n",
    "* (k) range(0, 10, 1)\n",
    "\n",
    "-> Từ 0 đến 9, tăng mỗi lần 1\n",
    "\n",
    "-> Kết quả: 0, 1, 2, ..., 9\n",
    "\n",
    "\n",
    "\n"
   ]
  },
  {
   "cell_type": "markdown",
   "id": "ba8d4062",
   "metadata": {},
   "source": [
    "# Câu 16: Cho biết bao nhiêu dấu * được in ra trên màn hình\n",
    "\n",
    "Yêu cầu:\n",
    "\n",
    "Cho biết bao nhiêu dấu * được in ra trên màn hình\n",
    "\n",
    "for a in range (20, 100, 5):\n",
    "\n",
    "print('*', end='')\n",
    "\n",
    "print()\n",
    "\n",
    "-> Có 16 dấu * được in ra trên màn hình\n",
    "\n",
    "-> Mỗi dấu nằm trên một dòng riêng\n"
   ]
  },
  {
   "cell_type": "markdown",
   "id": "86e909ed",
   "metadata": {},
   "source": [
    "# Câu 17: Viết lại coding dưới đây bằng cách dùng từ khóa break thay thế cho biến done\n",
    "\n",
    "Yêu cầu:\n",
    "\n",
    "Viết lại coding dưới đây bằng cách dùng từ khóa break thay thế cho biến done\n",
    "\n",
    "done == Flase\n",
    "\n",
    "n, m = 0, 100\n",
    "\n",
    "while not done and n != m:\n",
    "\n",
    "n = int(input())\n",
    "\n",
    "if n < 0:\n",
    "\n",
    "done =  True\n",
    "\n",
    "print(\"n =', n)"
   ]
  },
  {
   "cell_type": "code",
   "execution_count": null,
   "id": "dda63c99",
   "metadata": {},
   "outputs": [],
   "source": [
    "n, m = 0, 100\n",
    "\n",
    "while n != m:\n",
    "    n = int(input())\n",
    "    if n < 0:\n",
    "        break\n",
    "\n",
    "print(\"n =\", n)"
   ]
  },
  {
   "cell_type": "markdown",
   "id": "0d5e5cb3",
   "metadata": {},
   "source": [
    "# Câu 18: Vẽ các hình dưới đây"
   ]
  },
  {
   "cell_type": "code",
   "execution_count": null,
   "id": "e4a66de9",
   "metadata": {},
   "outputs": [
    {
     "name": "stdout",
     "output_type": "stream",
     "text": [
      "Hinh chu nhat: \n",
      "* * * * \n",
      "*     *\n",
      "*     *\n",
      "* * * * \n",
      "Tam giac vuong: \n",
      "      * \n",
      "    * * \n",
      "  * * * \n",
      "* * * * \n"
     ]
    }
   ],
   "source": [
    "n = int(input(\"Nhập độ dài n: \"))\n",
    "\n",
    "print(\"Hinh chu nhat: \")\n",
    "for i in range(n):\n",
    "    if i == 0 or i == n - 1:\n",
    "        print('* ' * n)\n",
    "    else:\n",
    "        print('* ' + '  ' * (n - 2) + '*')\n",
    "       \n",
    "        \n",
    "print(\"Tam giac vuong: \")\n",
    "for i in range(1, n+1):\n",
    "    print('  ' * (n - i) + '* ' * i)\n",
    "    \n"
   ]
  },
  {
   "cell_type": "markdown",
   "id": "ae90b72d",
   "metadata": {},
   "source": [
    "# Câu 19: Tính giá trị biểu thức S"
   ]
  },
  {
   "cell_type": "code",
   "execution_count": null,
   "id": "cb8d39bc",
   "metadata": {},
   "outputs": [],
   "source": [
    "import math\n",
    "\n",
    "def S(x, n):\n",
    "    tong = 0\n",
    "    for i in range(n + 1):\n",
    "        mu = 2 * i + 1\n",
    "        term = x ** mu / math.factorial(mu)\n",
    "        tong += term\n",
    "    return tong\n",
    "\n",
    "\n",
    "print(S(2, 3))  # Tính x + x^3/3! + x^5/5! + x^7/7!"
   ]
  }
 ],
 "metadata": {
  "kernelspec": {
   "display_name": "Python 3",
   "language": "python",
   "name": "python3"
  },
  "language_info": {
   "codemirror_mode": {
    "name": "ipython",
    "version": 3
   },
   "file_extension": ".py",
   "mimetype": "text/x-python",
   "name": "python",
   "nbconvert_exporter": "python",
   "pygments_lexer": "ipython3",
   "version": "3.13.7"
  }
 },
 "nbformat": 4,
 "nbformat_minor": 5
}
